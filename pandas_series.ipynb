{
 "cells": [
  {
   "cell_type": "code",
   "execution_count": 249,
   "id": "3b033ab3",
   "metadata": {},
   "outputs": [],
   "source": [
    "import numpy as np\n",
    "import pandas as pd\n",
    "\n",
    "import matplotlib.pyplot as plt\n"
   ]
  },
  {
   "cell_type": "code",
   "execution_count": 2,
   "id": "28d9eb6f",
   "metadata": {},
   "outputs": [
    {
     "data": {
      "text/plain": [
       "pandas.core.series.Series"
      ]
     },
     "execution_count": 2,
     "metadata": {},
     "output_type": "execute_result"
    }
   ],
   "source": [
    "numbers_series = pd.Series([100, 43, 26, 17, 17])\n",
    "type(numbers_series)\n"
   ]
  },
  {
   "cell_type": "code",
   "execution_count": 3,
   "id": "40f33471",
   "metadata": {},
   "outputs": [
    {
     "data": {
      "text/plain": [
       "0    100\n",
       "1     43\n",
       "2     26\n",
       "3     17\n",
       "4     17\n",
       "dtype: int64"
      ]
     },
     "execution_count": 3,
     "metadata": {},
     "output_type": "execute_result"
    }
   ],
   "source": [
    "numbers_series\n"
   ]
  },
  {
   "cell_type": "code",
   "execution_count": 4,
   "id": "1d888c05",
   "metadata": {},
   "outputs": [
    {
     "data": {
      "text/plain": [
       "0    3.0\n",
       "1    2.0\n",
       "2    4.5\n",
       "dtype: float64"
      ]
     },
     "execution_count": 4,
     "metadata": {},
     "output_type": "execute_result"
    }
   ],
   "source": [
    "pd.Series([3, 2, 4.5])\n"
   ]
  },
  {
   "cell_type": "code",
   "execution_count": 5,
   "id": "3340bed7",
   "metadata": {},
   "outputs": [
    {
     "data": {
      "text/plain": [
       "0    a\n",
       "1    e\n",
       "2    h\n",
       "3    d\n",
       "4    b\n",
       "5    z\n",
       "dtype: object"
      ]
     },
     "execution_count": 5,
     "metadata": {},
     "output_type": "execute_result"
    }
   ],
   "source": [
    "letters_series = pd.Series(['a', 'e', 'h', 'd', 'b', 'z'])\n",
    "letters_series\n"
   ]
  },
  {
   "cell_type": "code",
   "execution_count": 6,
   "id": "1a99415c",
   "metadata": {},
   "outputs": [
    {
     "data": {
      "text/plain": [
       "a    0.0\n",
       "b    1.5\n",
       "c    2.0\n",
       "d    3.5\n",
       "e    4.0\n",
       "f    5.5\n",
       "dtype: float64"
      ]
     },
     "execution_count": 6,
     "metadata": {},
     "output_type": "execute_result"
    }
   ],
   "source": [
    "labeled_series = pd.Series({'a' : 0, 'b' : 1.5, 'c' : 2, 'd': 3.5, 'e': 4, 'f': 5.5})\n",
    "labeled_series\n"
   ]
  },
  {
   "cell_type": "code",
   "execution_count": 7,
   "id": "c9502b04",
   "metadata": {},
   "outputs": [
    {
     "data": {
      "text/plain": [
       "0    101\n",
       "1     44\n",
       "2     27\n",
       "3     18\n",
       "4     18\n",
       "dtype: int64"
      ]
     },
     "execution_count": 7,
     "metadata": {},
     "output_type": "execute_result"
    }
   ],
   "source": [
    "numbers_series + 1\n"
   ]
  },
  {
   "cell_type": "code",
   "execution_count": 8,
   "id": "4d16068a",
   "metadata": {},
   "outputs": [
    {
     "data": {
      "text/plain": [
       "0    50.0\n",
       "1    21.5\n",
       "2    13.0\n",
       "3     8.5\n",
       "4     8.5\n",
       "dtype: float64"
      ]
     },
     "execution_count": 8,
     "metadata": {},
     "output_type": "execute_result"
    }
   ],
   "source": [
    "numbers_series / 2\n"
   ]
  },
  {
   "cell_type": "code",
   "execution_count": 9,
   "id": "49275d0b",
   "metadata": {},
   "outputs": [
    {
     "data": {
      "text/plain": [
       "0    False\n",
       "1    False\n",
       "2    False\n",
       "3     True\n",
       "4     True\n",
       "dtype: bool"
      ]
     },
     "execution_count": 9,
     "metadata": {},
     "output_type": "execute_result"
    }
   ],
   "source": [
    "numbers_series == 17\n"
   ]
  },
  {
   "cell_type": "code",
   "execution_count": 10,
   "id": "cf451456",
   "metadata": {},
   "outputs": [
    {
     "data": {
      "text/plain": [
       "RangeIndex(start=0, stop=5, step=1)"
      ]
     },
     "execution_count": 10,
     "metadata": {},
     "output_type": "execute_result"
    }
   ],
   "source": [
    "# Access the index of the Series using dot notation.\n",
    "\n",
    "numbers_series.index\n"
   ]
  },
  {
   "cell_type": "code",
   "execution_count": 11,
   "id": "53a643fa",
   "metadata": {},
   "outputs": [
    {
     "data": {
      "text/plain": [
       "array([100,  43,  26,  17,  17])"
      ]
     },
     "execution_count": 11,
     "metadata": {},
     "output_type": "execute_result"
    }
   ],
   "source": [
    "# The values are stored in a NumPy array. Hello vectorized operations!\n",
    "\n",
    "numbers_series.values\n"
   ]
  },
  {
   "cell_type": "code",
   "execution_count": 12,
   "id": "e62b6e14",
   "metadata": {},
   "outputs": [
    {
     "data": {
      "text/plain": [
       "dtype('int64')"
      ]
     },
     "execution_count": 12,
     "metadata": {},
     "output_type": "execute_result"
    }
   ],
   "source": [
    "numbers_series.dtype\n"
   ]
  },
  {
   "cell_type": "code",
   "execution_count": 13,
   "id": "0cedb1c9",
   "metadata": {},
   "outputs": [
    {
     "data": {
      "text/plain": [
       "0    100\n",
       "1     43\n",
       "2     26\n",
       "3     17\n",
       "4     17\n",
       "Name: Numbers, dtype: int64"
      ]
     },
     "execution_count": 13,
     "metadata": {},
     "output_type": "execute_result"
    }
   ],
   "source": [
    "numbers_series.name = 'Numbers'\n",
    "numbers_series\n"
   ]
  },
  {
   "cell_type": "code",
   "execution_count": 14,
   "id": "b0199534",
   "metadata": {},
   "outputs": [
    {
     "data": {
      "text/plain": [
       "5"
      ]
     },
     "execution_count": 14,
     "metadata": {},
     "output_type": "execute_result"
    }
   ],
   "source": [
    "numbers_series.size\n"
   ]
  },
  {
   "cell_type": "code",
   "execution_count": 15,
   "id": "6345eeb1",
   "metadata": {},
   "outputs": [
    {
     "data": {
      "text/plain": [
       "0    100\n",
       "1     43\n",
       "Name: Numbers, dtype: int64"
      ]
     },
     "execution_count": 15,
     "metadata": {},
     "output_type": "execute_result"
    }
   ],
   "source": [
    "numbers_series.head(2)\n"
   ]
  },
  {
   "cell_type": "code",
   "execution_count": 16,
   "id": "5ab3e340",
   "metadata": {},
   "outputs": [
    {
     "data": {
      "text/plain": [
       "3    17\n",
       "4    17\n",
       "Name: Numbers, dtype: int64"
      ]
     },
     "execution_count": 16,
     "metadata": {},
     "output_type": "execute_result"
    }
   ],
   "source": [
    "numbers_series.tail(2)\n"
   ]
  },
  {
   "cell_type": "code",
   "execution_count": 17,
   "id": "6ee5bfef",
   "metadata": {},
   "outputs": [
    {
     "data": {
      "text/plain": [
       "4    17\n",
       "Name: Numbers, dtype: int64"
      ]
     },
     "execution_count": 17,
     "metadata": {},
     "output_type": "execute_result"
    }
   ],
   "source": [
    "numbers_series.sample()\n"
   ]
  },
  {
   "cell_type": "code",
   "execution_count": 18,
   "id": "dbada4ef",
   "metadata": {},
   "outputs": [
    {
     "data": {
      "text/plain": [
       "0    3\n",
       "1    4\n",
       "2    5\n",
       "3    6\n",
       "dtype: object"
      ]
     },
     "execution_count": 18,
     "metadata": {},
     "output_type": "execute_result"
    }
   ],
   "source": [
    "num_strings = pd.Series([3, 4, 5, 6]).astype('str')\n",
    "num_strings\n"
   ]
  },
  {
   "cell_type": "code",
   "execution_count": 19,
   "id": "7627e29f",
   "metadata": {},
   "outputs": [
    {
     "data": {
      "text/plain": [
       "0    3.0\n",
       "1    4.0\n",
       "2    5.0\n",
       "3    6.0\n",
       "dtype: float64"
      ]
     },
     "execution_count": 19,
     "metadata": {},
     "output_type": "execute_result"
    }
   ],
   "source": [
    "floats = pd.Series([3, 4, 5, 6]).astype('float')\n",
    "floats\n"
   ]
  },
  {
   "cell_type": "code",
   "execution_count": 20,
   "id": "ccb61063",
   "metadata": {},
   "outputs": [
    {
     "data": {
      "text/plain": [
       "0    3\n",
       "1    4\n",
       "2    5\n",
       "3    6\n",
       "dtype: int64"
      ]
     },
     "execution_count": 20,
     "metadata": {},
     "output_type": "execute_result"
    }
   ],
   "source": [
    "floats.astype('int')\n"
   ]
  },
  {
   "cell_type": "code",
   "execution_count": 21,
   "id": "a8c9c091",
   "metadata": {},
   "outputs": [
    {
     "data": {
      "text/plain": [
       "a    4\n",
       "b    2\n",
       "c    1\n",
       "d    1\n",
       "dtype: int64"
      ]
     },
     "execution_count": 21,
     "metadata": {},
     "output_type": "execute_result"
    }
   ],
   "source": [
    "pd.Series(['a', 'b', 'a', 'c', 'b', 'a', 'd', 'a']).value_counts()\n"
   ]
  },
  {
   "cell_type": "code",
   "execution_count": 22,
   "id": "05a0cd73",
   "metadata": {},
   "outputs": [
    {
     "data": {
      "text/plain": [
       "count      5.000000\n",
       "mean      40.600000\n",
       "std       34.861153\n",
       "min       17.000000\n",
       "25%       17.000000\n",
       "50%       26.000000\n",
       "75%       43.000000\n",
       "max      100.000000\n",
       "Name: Numbers, dtype: float64"
      ]
     },
     "execution_count": 22,
     "metadata": {},
     "output_type": "execute_result"
    }
   ],
   "source": [
    "numbers_series.describe()\n"
   ]
  },
  {
   "cell_type": "code",
   "execution_count": 23,
   "id": "cbb3c81a",
   "metadata": {},
   "outputs": [
    {
     "data": {
      "text/plain": [
       "{'count': 5, 'sum': 203, 'mean': 40.6}"
      ]
     },
     "execution_count": 23,
     "metadata": {},
     "output_type": "execute_result"
    }
   ],
   "source": [
    "{\n",
    "    'count': numbers_series.count(),\n",
    "    'sum': numbers_series.sum(),\n",
    "    'mean': numbers_series.mean()\n",
    "}\n"
   ]
  },
  {
   "cell_type": "code",
   "execution_count": 25,
   "id": "d0a5c306",
   "metadata": {},
   "outputs": [
    {
     "ename": "NameError",
     "evalue": "name 'numbers_Series' is not defined",
     "output_type": "error",
     "traceback": [
      "\u001b[0;31m---------------------------------------------------------------------------\u001b[0m",
      "\u001b[0;31mNameError\u001b[0m                                 Traceback (most recent call last)",
      "Input \u001b[0;32mIn [25]\u001b[0m, in \u001b[0;36m<cell line: 1>\u001b[0;34m()\u001b[0m\n\u001b[0;32m----> 1\u001b[0m \u001b[43mnumbers_Series\u001b[49m\u001b[38;5;241m.\u001b[39mnlargest(n\u001b[38;5;241m=\u001b[39m\u001b[38;5;241m5\u001b[39m, keep\u001b[38;5;241m=\u001b[39m\u001b[38;5;124m'\u001b[39m\u001b[38;5;124mfirst\u001b[39m\u001b[38;5;124m'\u001b[39m)\n\u001b[1;32m      2\u001b[0m numbers_Series\u001b[38;5;241m.\u001b[39mnsmallest(n\u001b[38;5;241m=\u001b[39m\u001b[38;5;241m5\u001b[39m, keep\u001b[38;5;241m=\u001b[39m\u001b[38;5;124m'\u001b[39m\u001b[38;5;124mfirst\u001b[39m\u001b[38;5;124m'\u001b[39m)\n",
      "\u001b[0;31mNameError\u001b[0m: name 'numbers_Series' is not defined"
     ]
    }
   ],
   "source": [
    "Series.nlargest(n=5, keep='first')\n",
    "Series.nsmallest(n=5, keep='first')\n"
   ]
  },
  {
   "cell_type": "code",
   "execution_count": 26,
   "id": "e9fa14af",
   "metadata": {},
   "outputs": [
    {
     "data": {
      "text/plain": [
       "0    100\n",
       "Name: Numbers, dtype: int64"
      ]
     },
     "execution_count": 26,
     "metadata": {},
     "output_type": "execute_result"
    }
   ],
   "source": [
    "numbers_series.nlargest(n=1)\n"
   ]
  },
  {
   "cell_type": "code",
   "execution_count": 27,
   "id": "86bc4bce",
   "metadata": {},
   "outputs": [
    {
     "data": {
      "text/plain": [
       "3    17\n",
       "4    17\n",
       "Name: Numbers, dtype: int64"
      ]
     },
     "execution_count": 27,
     "metadata": {},
     "output_type": "execute_result"
    }
   ],
   "source": [
    "# If I want to return all of the lowest values, not just the first instance.\n",
    "\n",
    "numbers_series.nsmallest(n=1, keep='all')\n"
   ]
  },
  {
   "cell_type": "code",
   "execution_count": 28,
   "id": "3c4befb0",
   "metadata": {},
   "outputs": [
    {
     "data": {
      "text/plain": [
       "0    a\n",
       "4    b\n",
       "3    d\n",
       "1    e\n",
       "2    h\n",
       "5    z\n",
       "dtype: object"
      ]
     },
     "execution_count": 28,
     "metadata": {},
     "output_type": "execute_result"
    }
   ],
   "source": [
    "letters_series.sort_values()\n"
   ]
  },
  {
   "cell_type": "code",
   "execution_count": 29,
   "id": "019d496e",
   "metadata": {},
   "outputs": [
    {
     "data": {
      "text/plain": [
       "5    z\n",
       "2    h\n",
       "1    e\n",
       "3    d\n",
       "4    b\n",
       "0    a\n",
       "dtype: object"
      ]
     },
     "execution_count": 29,
     "metadata": {},
     "output_type": "execute_result"
    }
   ],
   "source": [
    "# The Series values retain their index from the original Series.\n",
    "\n",
    "letters_series.sort_values(ascending=False)\n"
   ]
  },
  {
   "cell_type": "code",
   "execution_count": 30,
   "id": "4a02af21",
   "metadata": {},
   "outputs": [
    {
     "data": {
      "text/plain": [
       "0    a\n",
       "1    b\n",
       "2    d\n",
       "3    e\n",
       "4    h\n",
       "5    z\n",
       "dtype: object"
      ]
     },
     "execution_count": 30,
     "metadata": {},
     "output_type": "execute_result"
    }
   ],
   "source": [
    "# I can reset the index using this parameter if that meets my needs.\n",
    "\n",
    "letters_series.sort_values(ignore_index=True)\n"
   ]
  },
  {
   "cell_type": "code",
   "execution_count": 31,
   "id": "2f3d43fe",
   "metadata": {},
   "outputs": [
    {
     "data": {
      "text/plain": [
       "f    5.5\n",
       "e    4.0\n",
       "d    3.5\n",
       "c    2.0\n",
       "b    1.5\n",
       "a    0.0\n",
       "dtype: float64"
      ]
     },
     "execution_count": 31,
     "metadata": {},
     "output_type": "execute_result"
    }
   ],
   "source": [
    "# I can also sort by index values.\n",
    "\n",
    "labeled_series.sort_index(ascending=False)\n"
   ]
  },
  {
   "cell_type": "code",
   "execution_count": 32,
   "id": "1c46a547",
   "metadata": {},
   "outputs": [],
   "source": [
    "fruits = pd.Series   ( [\"kiwi\", \"mango\", \"strawberry\", \"pineapple\", \"gala apple\", \"honeycrisp apple\", \"tomato\", \"watermelon\", \"honeydew\", \"kiwi\", \"kiwi\", \"kiwi\", \"mango\", \"blueberry\", \"blackberry\", \"gooseberry\", \"papaya\"])\n"
   ]
  },
  {
   "cell_type": "code",
   "execution_count": 34,
   "id": "f6ce483e",
   "metadata": {},
   "outputs": [
    {
     "data": {
      "text/plain": [
       "0                 kiwi\n",
       "1                mango\n",
       "2           strawberry\n",
       "3            pineapple\n",
       "4           gala apple\n",
       "5     honeycrisp apple\n",
       "6               tomato\n",
       "7           watermelon\n",
       "8             honeydew\n",
       "9                 kiwi\n",
       "10                kiwi\n",
       "11                kiwi\n",
       "12               mango\n",
       "13           blueberry\n",
       "14          blackberry\n",
       "15          gooseberry\n",
       "16              papaya\n",
       "dtype: object"
      ]
     },
     "execution_count": 34,
     "metadata": {},
     "output_type": "execute_result"
    }
   ],
   "source": [
    "# Determine the number of elements in fruits.\n",
    "fruits\n"
   ]
  },
  {
   "cell_type": "code",
   "execution_count": 35,
   "id": "7ed846f4",
   "metadata": {},
   "outputs": [
    {
     "data": {
      "text/plain": [
       "RangeIndex(start=0, stop=17, step=1)"
      ]
     },
     "execution_count": 35,
     "metadata": {},
     "output_type": "execute_result"
    }
   ],
   "source": [
    "# Output only the index from fruits.\n",
    "fruits.index\n",
    "\n"
   ]
  },
  {
   "cell_type": "code",
   "execution_count": 36,
   "id": "0710726c",
   "metadata": {},
   "outputs": [
    {
     "data": {
      "text/plain": [
       "array(['kiwi', 'mango', 'strawberry', 'pineapple', 'gala apple',\n",
       "       'honeycrisp apple', 'tomato', 'watermelon', 'honeydew', 'kiwi',\n",
       "       'kiwi', 'kiwi', 'mango', 'blueberry', 'blackberry', 'gooseberry',\n",
       "       'papaya'], dtype=object)"
      ]
     },
     "execution_count": 36,
     "metadata": {},
     "output_type": "execute_result"
    }
   ],
   "source": [
    "# Output only the values from fruits.\n",
    "fruits.values\n"
   ]
  },
  {
   "cell_type": "code",
   "execution_count": 37,
   "id": "3f47c9d1",
   "metadata": {},
   "outputs": [
    {
     "data": {
      "text/plain": [
       "dtype('O')"
      ]
     },
     "execution_count": 37,
     "metadata": {},
     "output_type": "execute_result"
    }
   ],
   "source": [
    "# Confirm the data type of the values in fruits.\n",
    "fruits.dtype\n"
   ]
  },
  {
   "cell_type": "code",
   "execution_count": 39,
   "id": "fa22ab31",
   "metadata": {},
   "outputs": [
    {
     "data": {
      "text/plain": [
       "0          kiwi\n",
       "1         mango\n",
       "2    strawberry\n",
       "3     pineapple\n",
       "4    gala apple\n",
       "dtype: object"
      ]
     },
     "execution_count": 39,
     "metadata": {},
     "output_type": "execute_result"
    }
   ],
   "source": [
    "# Output only the first five values from fruits. Output the last three values. Output two random values from fruits.\n",
    "fruits.head()\n"
   ]
  },
  {
   "cell_type": "code",
   "execution_count": 40,
   "id": "bc66ca70",
   "metadata": {},
   "outputs": [
    {
     "data": {
      "text/plain": [
       "count       17\n",
       "unique      13\n",
       "top       kiwi\n",
       "freq         4\n",
       "dtype: object"
      ]
     },
     "execution_count": 40,
     "metadata": {},
     "output_type": "execute_result"
    }
   ],
   "source": [
    "# Run the .describe() on fruits to see what information it returns when called on a Series with string values.\n",
    "fruits.describe()\n"
   ]
  },
  {
   "cell_type": "code",
   "execution_count": 46,
   "id": "aca28f7a",
   "metadata": {},
   "outputs": [
    {
     "data": {
      "text/plain": [
       "array(['kiwi', 'mango', 'strawberry', 'pineapple', 'gala apple',\n",
       "       'honeycrisp apple', 'tomato', 'watermelon', 'honeydew',\n",
       "       'blueberry', 'blackberry', 'gooseberry', 'papaya'], dtype=object)"
      ]
     },
     "execution_count": 46,
     "metadata": {},
     "output_type": "execute_result"
    }
   ],
   "source": [
    "# Run the code necessary to produce only the unique string values from fruits.\n",
    "fruits.unique()\n"
   ]
  },
  {
   "cell_type": "code",
   "execution_count": 45,
   "id": "8ee6b3e3",
   "metadata": {},
   "outputs": [
    {
     "data": {
      "text/plain": [
       "kiwi                4\n",
       "mango               2\n",
       "strawberry          1\n",
       "pineapple           1\n",
       "gala apple          1\n",
       "honeycrisp apple    1\n",
       "tomato              1\n",
       "watermelon          1\n",
       "honeydew            1\n",
       "blueberry           1\n",
       "blackberry          1\n",
       "gooseberry          1\n",
       "papaya              1\n",
       "dtype: int64"
      ]
     },
     "execution_count": 45,
     "metadata": {},
     "output_type": "execute_result"
    }
   ],
   "source": [
    "# Determine how many times each unique string value occurs in fruits.\n",
    "fruits.value_counts()\n",
    "\n"
   ]
  },
  {
   "cell_type": "code",
   "execution_count": 76,
   "id": "b2606f69",
   "metadata": {},
   "outputs": [
    {
     "data": {
      "text/plain": [
       "kiwi    4\n",
       "dtype: int64"
      ]
     },
     "execution_count": 76,
     "metadata": {},
     "output_type": "execute_result"
    }
   ],
   "source": [
    "# Determine the string value that occurs most frequently in fruits.\n",
    "fruits.value_counts().nlargest(1)"
   ]
  },
  {
   "cell_type": "code",
   "execution_count": 77,
   "id": "6fe891cb",
   "metadata": {},
   "outputs": [
    {
     "data": {
      "text/plain": [
       "strawberry    1\n",
       "dtype: int64"
      ]
     },
     "execution_count": 77,
     "metadata": {},
     "output_type": "execute_result"
    }
   ],
   "source": [
    "# Determine the string value that occurs least frequently in fruits.\n",
    "\n",
    "fruits.value_counts().nsmallest(1)\n"
   ]
  },
  {
   "cell_type": "code",
   "execution_count": 71,
   "id": "639305a3",
   "metadata": {},
   "outputs": [
    {
     "data": {
      "text/plain": [
       "0    100\n",
       "1     43\n",
       "2     26\n",
       "3     17\n",
       "4     17\n",
       "Name: Numbers, dtype: int64"
      ]
     },
     "execution_count": 71,
     "metadata": {},
     "output_type": "execute_result"
    }
   ],
   "source": [
    "numbers_series\n"
   ]
  },
  {
   "cell_type": "code",
   "execution_count": 72,
   "id": "54bff97a",
   "metadata": {},
   "outputs": [
    {
     "data": {
      "text/plain": [
       "0     True\n",
       "1     True\n",
       "2    False\n",
       "3    False\n",
       "4    False\n",
       "Name: Numbers, dtype: bool"
      ]
     },
     "execution_count": 72,
     "metadata": {},
     "output_type": "execute_result"
    }
   ],
   "source": [
    "# I can see that my condition is being met by the values at index 0 and index 1.\n",
    "\n",
    "bools = numbers_series > 40\n",
    "bools\n"
   ]
  },
  {
   "cell_type": "code",
   "execution_count": 73,
   "id": "406deb48",
   "metadata": {},
   "outputs": [
    {
     "data": {
      "text/plain": [
       "0    100\n",
       "1     43\n",
       "Name: Numbers, dtype: int64"
      ]
     },
     "execution_count": 73,
     "metadata": {},
     "output_type": "execute_result"
    }
   ],
   "source": [
    "# I pass my boolean mask to the original Series to return the values that meet the condition.\n",
    "\n",
    "numbers_series[bools]\n"
   ]
  },
  {
   "cell_type": "code",
   "execution_count": 74,
   "id": "13e639d5",
   "metadata": {},
   "outputs": [
    {
     "data": {
      "text/plain": [
       "0    100\n",
       "1     43\n",
       "Name: Numbers, dtype: int64"
      ]
     },
     "execution_count": 74,
     "metadata": {},
     "output_type": "execute_result"
    }
   ],
   "source": [
    "# I can simply pass my conditional expression into the indexing operator, too.\n",
    "\n",
    "numbers_series[numbers_series > 40]\n"
   ]
  },
  {
   "cell_type": "code",
   "execution_count": 78,
   "id": "296e5789",
   "metadata": {},
   "outputs": [
    {
     "data": {
      "text/plain": [
       "1     2\n",
       "3     4\n",
       "5     6\n",
       "7     8\n",
       "8     9\n",
       "9    10\n",
       "dtype: int64"
      ]
     },
     "execution_count": 78,
     "metadata": {},
     "output_type": "execute_result"
    }
   ],
   "source": [
    "# We can create compound logical statements to narrow/expand our subsetting options \n",
    "# Wrap parenthese around each comparison\n",
    "# The pipe | character is the OR\n",
    "\n",
    "x = pd.Series([1, 2, 3, 4, 5, 6, 7, 8, 9, 10])\n",
    "\n",
    "# Find the numbers that are even or greater than 7\n",
    "x[(x % 2 == 0) | (x > 7)]\n"
   ]
  },
  {
   "cell_type": "code",
   "execution_count": 79,
   "id": "9397f014",
   "metadata": {},
   "outputs": [
    {
     "data": {
      "text/plain": [
       "7     8\n",
       "9    10\n",
       "dtype: int64"
      ]
     },
     "execution_count": 79,
     "metadata": {},
     "output_type": "execute_result"
    }
   ],
   "source": [
    "# Alternative syntax without the parentheses\n",
    "is_even = x % 2 == 0\n",
    "greater_than_seven = x > 7\n",
    "\n",
    "x[is_even & greater_than_seven]\n"
   ]
  },
  {
   "cell_type": "code",
   "execution_count": 80,
   "id": "6cc39d09",
   "metadata": {},
   "outputs": [
    {
     "data": {
      "text/plain": [
       "0       Hello\n",
       "1      CodeuP\n",
       "2    StUDenTs\n",
       "dtype: object"
      ]
     },
     "execution_count": 80,
     "metadata": {},
     "output_type": "execute_result"
    }
   ],
   "source": [
    "string_series = pd.Series(['Hello', 'CodeuP', 'StUDenTs'])\n",
    "string_series\n"
   ]
  },
  {
   "cell_type": "code",
   "execution_count": 81,
   "id": "93119cf4",
   "metadata": {},
   "outputs": [
    {
     "data": {
      "text/plain": [
       "0       hello\n",
       "1      codeup\n",
       "2    students\n",
       "dtype: object"
      ]
     },
     "execution_count": 81,
     "metadata": {},
     "output_type": "execute_result"
    }
   ],
   "source": [
    "string_series.str.lower()\n"
   ]
  },
  {
   "cell_type": "code",
   "execution_count": 82,
   "id": "9b619ccd",
   "metadata": {},
   "outputs": [
    {
     "data": {
      "text/plain": [
       "0       H_llo\n",
       "1      Cod_uP\n",
       "2    StUD_nTs\n",
       "dtype: object"
      ]
     },
     "execution_count": 82,
     "metadata": {},
     "output_type": "execute_result"
    }
   ],
   "source": [
    "string_series.str.replace('e', '_')\n"
   ]
  },
  {
   "cell_type": "code",
   "execution_count": 83,
   "id": "1a8cdace",
   "metadata": {},
   "outputs": [
    {
     "data": {
      "text/plain": [
       "0       h_llo\n",
       "1      cod_up\n",
       "2    stud_nts\n",
       "dtype: object"
      ]
     },
     "execution_count": 83,
     "metadata": {},
     "output_type": "execute_result"
    }
   ],
   "source": [
    "# Since each method returns a Series, I can use method chaining like this.\n",
    "\n",
    "string_series.str.lower().str.replace('e', '_')\n"
   ]
  },
  {
   "cell_type": "code",
   "execution_count": 84,
   "id": "fe738687",
   "metadata": {},
   "outputs": [
    {
     "data": {
      "text/plain": [
       "0    Hello\n",
       "dtype: object"
      ]
     },
     "execution_count": 84,
     "metadata": {},
     "output_type": "execute_result"
    }
   ],
   "source": [
    "# I can even use method chaining and indexing!\n",
    "\n",
    "string_series[string_series.str.lower().str.startswith('h')]\n"
   ]
  },
  {
   "cell_type": "code",
   "execution_count": 85,
   "id": "e86068c8",
   "metadata": {},
   "outputs": [
    {
     "data": {
      "text/plain": [
       "0       Hello\n",
       "1      CodeuP\n",
       "2    StUDenTs\n",
       "dtype: object"
      ]
     },
     "execution_count": 85,
     "metadata": {},
     "output_type": "execute_result"
    }
   ],
   "source": [
    "# Notice my original string_series is not mutated. \n",
    "\n",
    "string_series\n"
   ]
  },
  {
   "cell_type": "code",
   "execution_count": 86,
   "id": "f131ef56",
   "metadata": {},
   "outputs": [
    {
     "data": {
      "text/plain": [
       "False"
      ]
     },
     "execution_count": 86,
     "metadata": {},
     "output_type": "execute_result"
    }
   ],
   "source": [
    "(numbers_series < 0).any()\n"
   ]
  },
  {
   "cell_type": "code",
   "execution_count": 87,
   "id": "8baa1121",
   "metadata": {},
   "outputs": [
    {
     "data": {
      "text/plain": [
       "False"
      ]
     },
     "execution_count": 87,
     "metadata": {},
     "output_type": "execute_result"
    }
   ],
   "source": [
    "(numbers_series < 0).all()\n"
   ]
  },
  {
   "cell_type": "code",
   "execution_count": 88,
   "id": "53c0e1fa",
   "metadata": {},
   "outputs": [
    {
     "data": {
      "text/plain": [
       "True"
      ]
     },
     "execution_count": 88,
     "metadata": {},
     "output_type": "execute_result"
    }
   ],
   "source": [
    "(numbers_series > 0).any()\n"
   ]
  },
  {
   "cell_type": "code",
   "execution_count": 89,
   "id": "f11649c3",
   "metadata": {},
   "outputs": [
    {
     "data": {
      "text/plain": [
       "True"
      ]
     },
     "execution_count": 89,
     "metadata": {},
     "output_type": "execute_result"
    }
   ],
   "source": [
    "(numbers_series > 0).all()\n"
   ]
  },
  {
   "cell_type": "code",
   "execution_count": 90,
   "id": "32fa79e6",
   "metadata": {},
   "outputs": [
    {
     "data": {
      "text/plain": [
       "['a', 'e', 'i', 'o', 'u']"
      ]
     },
     "execution_count": 90,
     "metadata": {},
     "output_type": "execute_result"
    }
   ],
   "source": [
    "# Create a list of vowels.\n",
    "\n",
    "vowels = list('aeiou')\n",
    "vowels\n"
   ]
  },
  {
   "cell_type": "code",
   "execution_count": 91,
   "id": "1d40044a",
   "metadata": {},
   "outputs": [
    {
     "data": {
      "text/plain": [
       "['a', 'b', 'c', 'd', 'e', 'f', 'g', 'h', 'i', 'j', 'k']"
      ]
     },
     "execution_count": 91,
     "metadata": {},
     "output_type": "execute_result"
    }
   ],
   "source": [
    "# Create a list of letters.\n",
    "\n",
    "letters = list('abcdefghijk')\n",
    "letters\n"
   ]
  },
  {
   "cell_type": "code",
   "execution_count": 92,
   "id": "05ae839e",
   "metadata": {},
   "outputs": [
    {
     "data": {
      "text/plain": [
       "0     a\n",
       "1     b\n",
       "2     c\n",
       "3     d\n",
       "4     e\n",
       "5     f\n",
       "6     g\n",
       "7     h\n",
       "8     i\n",
       "9     j\n",
       "10    k\n",
       "dtype: object"
      ]
     },
     "execution_count": 92,
     "metadata": {},
     "output_type": "execute_result"
    }
   ],
   "source": [
    "# Construct a pandas Series from my list of letters.\n",
    "\n",
    "letters_series = pd.Series(letters)\n",
    "letters_series\n"
   ]
  },
  {
   "cell_type": "code",
   "execution_count": 93,
   "id": "ceddb79d",
   "metadata": {},
   "outputs": [
    {
     "data": {
      "text/plain": [
       "0      True\n",
       "1     False\n",
       "2     False\n",
       "3     False\n",
       "4      True\n",
       "5     False\n",
       "6     False\n",
       "7     False\n",
       "8      True\n",
       "9     False\n",
       "10    False\n",
       "dtype: bool"
      ]
     },
     "execution_count": 93,
     "metadata": {},
     "output_type": "execute_result"
    }
   ],
   "source": [
    "# Use .isin to check if each element in letters_series matches an element in my list of vowels.\n",
    "\n",
    "letters_series.isin(vowels)\n"
   ]
  },
  {
   "cell_type": "code",
   "execution_count": 94,
   "id": "1677b561",
   "metadata": {},
   "outputs": [
    {
     "data": {
      "text/plain": [
       "0    a\n",
       "4    e\n",
       "8    i\n",
       "dtype: object"
      ]
     },
     "execution_count": 94,
     "metadata": {},
     "output_type": "execute_result"
    }
   ],
   "source": [
    "# Use my Series of boolean values to return the values that meet my condition.\n",
    "\n",
    "letters_series[letters_series.isin(vowels)]\n"
   ]
  },
  {
   "cell_type": "code",
   "execution_count": 95,
   "id": "2ce65c21",
   "metadata": {},
   "outputs": [
    {
     "data": {
      "text/plain": [
       "0    even\n",
       "1     odd\n",
       "2    even\n",
       "3     odd\n",
       "4     odd\n",
       "Name: Numbers, dtype: object"
      ]
     },
     "execution_count": 95,
     "metadata": {},
     "output_type": "execute_result"
    }
   ],
   "source": [
    "def even_or_odd(n):\n",
    "    '''\n",
    "    A function that takes a number and returns a string indicating whether the passed number is even or odd.\n",
    "\n",
    "    >>> even_or_odd(3)\n",
    "    'odd'\n",
    "    >>> even_or_odd(2)\n",
    "    'even'\n",
    "    '''\n",
    "    if n % 2 == 0:\n",
    "        return 'even'\n",
    "    else:\n",
    "        return 'odd'\n",
    "\n",
    "numbers_series.apply(even_or_odd)\n"
   ]
  },
  {
   "cell_type": "code",
   "execution_count": 96,
   "id": "b2d046d9",
   "metadata": {},
   "outputs": [
    {
     "data": {
      "text/plain": [
       "0    even\n",
       "1     odd\n",
       "2    even\n",
       "3     odd\n",
       "4     odd\n",
       "Name: Numbers, dtype: object"
      ]
     },
     "execution_count": 96,
     "metadata": {},
     "output_type": "execute_result"
    }
   ],
   "source": [
    "numbers_series.apply(lambda n: 'even' if n % 2 == 0 else 'odd')\n"
   ]
  },
  {
   "cell_type": "code",
   "execution_count": 97,
   "id": "15b05b75",
   "metadata": {},
   "outputs": [
    {
     "data": {
      "text/plain": [
       "0                 KIWI\n",
       "1                MANGO\n",
       "2           STRAWBERRY\n",
       "3            PINEAPPLE\n",
       "4           GALA APPLE\n",
       "5     HONEYCRISP APPLE\n",
       "6               TOMATO\n",
       "7           WATERMELON\n",
       "8             HONEYDEW\n",
       "9                 KIWI\n",
       "10                KIWI\n",
       "11                KIWI\n",
       "12               MANGO\n",
       "13           BLUEBERRY\n",
       "14          BLACKBERRY\n",
       "15          GOOSEBERRY\n",
       "16              PAPAYA\n",
       "dtype: object"
      ]
     },
     "execution_count": 97,
     "metadata": {},
     "output_type": "execute_result"
    }
   ],
   "source": [
    "# Capitalize all the string values in fruits.\n",
    "fruits.str.upper()\n"
   ]
  },
  {
   "cell_type": "code",
   "execution_count": 105,
   "id": "235245cc",
   "metadata": {},
   "outputs": [
    {
     "data": {
      "text/plain": [
       "0     0\n",
       "1     1\n",
       "2     1\n",
       "3     1\n",
       "4     3\n",
       "5     1\n",
       "6     1\n",
       "7     1\n",
       "8     0\n",
       "9     0\n",
       "10    0\n",
       "11    0\n",
       "12    1\n",
       "13    0\n",
       "14    1\n",
       "15    0\n",
       "16    3\n",
       "dtype: int64"
      ]
     },
     "execution_count": 105,
     "metadata": {},
     "output_type": "execute_result"
    }
   ],
   "source": [
    "# Count the letter \"a\" in all the string values (use string vectorization).\n",
    "fruits.str.count('a')\n"
   ]
  },
  {
   "cell_type": "code",
   "execution_count": 123,
   "id": "c1b07778",
   "metadata": {},
   "outputs": [
    {
     "data": {
      "text/plain": [
       "0     2\n",
       "1     2\n",
       "2     2\n",
       "3     4\n",
       "4     4\n",
       "5     5\n",
       "6     3\n",
       "7     4\n",
       "8     3\n",
       "9     2\n",
       "10    2\n",
       "11    2\n",
       "12    2\n",
       "13    3\n",
       "14    2\n",
       "15    4\n",
       "16    3\n",
       "dtype: int64"
      ]
     },
     "execution_count": 123,
     "metadata": {},
     "output_type": "execute_result"
    }
   ],
   "source": [
    "# Output the number of vowels in each and every string value.\n",
    "fruits.str.count('[aeiou]')"
   ]
  },
  {
   "cell_type": "code",
   "execution_count": 122,
   "id": "fd0087c0",
   "metadata": {},
   "outputs": [
    {
     "data": {
      "text/plain": [
       "'honeycrisp apple'"
      ]
     },
     "execution_count": 122,
     "metadata": {},
     "output_type": "execute_result"
    }
   ],
   "source": [
    "# Write the code to get the longest string value from fruits.\n",
    "max(fruits, key = len)"
   ]
  },
  {
   "cell_type": "code",
   "execution_count": 135,
   "id": "588c3c58",
   "metadata": {},
   "outputs": [
    {
     "data": {
      "text/plain": [
       "0     False\n",
       "1     False\n",
       "2      True\n",
       "3      True\n",
       "4      True\n",
       "5      True\n",
       "6      True\n",
       "7      True\n",
       "8      True\n",
       "9     False\n",
       "10    False\n",
       "11    False\n",
       "12    False\n",
       "13     True\n",
       "14     True\n",
       "15     True\n",
       "16     True\n",
       "dtype: bool"
      ]
     },
     "execution_count": 135,
     "metadata": {},
     "output_type": "execute_result"
    }
   ],
   "source": [
    "\n",
    "# Write the code to get the string values with 5 or more letters in the name.\n",
    "((fruits.str.len())>5)"
   ]
  },
  {
   "cell_type": "code",
   "execution_count": 150,
   "id": "6d97d12e",
   "metadata": {},
   "outputs": [
    {
     "data": {
      "text/plain": [
       "0     False\n",
       "1     False\n",
       "2     False\n",
       "3     False\n",
       "4     False\n",
       "5     False\n",
       "6      True\n",
       "7     False\n",
       "8     False\n",
       "9     False\n",
       "10    False\n",
       "11    False\n",
       "12    False\n",
       "13    False\n",
       "14    False\n",
       "15     True\n",
       "16    False\n",
       "dtype: bool"
      ]
     },
     "execution_count": 150,
     "metadata": {},
     "output_type": "execute_result"
    }
   ],
   "source": [
    "\n",
    "# Find the fruit(s) containing the letter \"o\" two or more times.\n",
    "\n",
    "((fruits.str.count('o')) >=2)"
   ]
  },
  {
   "cell_type": "code",
   "execution_count": 161,
   "id": "993b6c71",
   "metadata": {},
   "outputs": [
    {
     "data": {
      "text/plain": [
       "2     strawberry\n",
       "13     blueberry\n",
       "14    blackberry\n",
       "15    gooseberry\n",
       "dtype: object"
      ]
     },
     "execution_count": 161,
     "metadata": {},
     "output_type": "execute_result"
    }
   ],
   "source": [
    "# Write the code to get only the string values containing the substring \"berry\".\n",
    "#fruits.str.contains('berry')\n",
    "fruits[fruits.str.count('berry') == True]"
   ]
  },
  {
   "cell_type": "code",
   "execution_count": 160,
   "id": "9396bab9",
   "metadata": {},
   "outputs": [
    {
     "data": {
      "text/plain": [
       "3           pineapple\n",
       "4          gala apple\n",
       "5    honeycrisp apple\n",
       "dtype: object"
      ]
     },
     "execution_count": 160,
     "metadata": {},
     "output_type": "execute_result"
    }
   ],
   "source": [
    "# Write the code to get only the string values containing the substring \"apple\".\n",
    "#fruits.str.contains('apple')\n",
    "fruits[fruits.str.count('apple') == True]"
   ]
  },
  {
   "cell_type": "code",
   "execution_count": 159,
   "id": "bc44567e",
   "metadata": {},
   "outputs": [
    {
     "data": {
      "text/plain": [
       "'honeycrisp apple'"
      ]
     },
     "execution_count": 159,
     "metadata": {},
     "output_type": "execute_result"
    }
   ],
   "source": [
    "\n",
    "# Which string value contains the most vowels?\n",
    "\n",
    "fruits[max(fruits.str.count('[aeiou]'))]"
   ]
  },
  {
   "cell_type": "code",
   "execution_count": 162,
   "id": "e29a1496",
   "metadata": {},
   "outputs": [
    {
     "data": {
      "text/plain": [
       "0      0\n",
       "1      1\n",
       "2      2\n",
       "3      3\n",
       "4      4\n",
       "5      5\n",
       "6      6\n",
       "7      7\n",
       "8      8\n",
       "9      9\n",
       "10    10\n",
       "11    11\n",
       "12    12\n",
       "13    13\n",
       "14    14\n",
       "dtype: int64"
      ]
     },
     "execution_count": 162,
     "metadata": {},
     "output_type": "execute_result"
    }
   ],
   "source": [
    "s = pd.Series(list(range(15)))\n",
    "s\n"
   ]
  },
  {
   "cell_type": "code",
   "execution_count": 163,
   "id": "046fbeb1",
   "metadata": {},
   "outputs": [
    {
     "data": {
      "text/plain": [
       "0     (-0.014, 4.667]\n",
       "1     (-0.014, 4.667]\n",
       "2     (-0.014, 4.667]\n",
       "3     (-0.014, 4.667]\n",
       "4     (-0.014, 4.667]\n",
       "5      (4.667, 9.333]\n",
       "6      (4.667, 9.333]\n",
       "7      (4.667, 9.333]\n",
       "8      (4.667, 9.333]\n",
       "9      (4.667, 9.333]\n",
       "10      (9.333, 14.0]\n",
       "11      (9.333, 14.0]\n",
       "12      (9.333, 14.0]\n",
       "13      (9.333, 14.0]\n",
       "14      (9.333, 14.0]\n",
       "dtype: category\n",
       "Categories (3, interval[float64, right]): [(-0.014, 4.667] < (4.667, 9.333] < (9.333, 14.0]]"
      ]
     },
     "execution_count": 163,
     "metadata": {},
     "output_type": "execute_result"
    }
   ],
   "source": [
    "# Bin values into 3 equal-sized bins.\n",
    "\n",
    "pd.cut(s, 3)\n"
   ]
  },
  {
   "cell_type": "code",
   "execution_count": 164,
   "id": "135a005d",
   "metadata": {},
   "outputs": [
    {
     "data": {
      "text/plain": [
       "0      (-1, 3]\n",
       "1      (-1, 3]\n",
       "2      (-1, 3]\n",
       "3      (-1, 3]\n",
       "4      (3, 12]\n",
       "5      (3, 12]\n",
       "6      (3, 12]\n",
       "7      (3, 12]\n",
       "8      (3, 12]\n",
       "9      (3, 12]\n",
       "10     (3, 12]\n",
       "11     (3, 12]\n",
       "12     (3, 12]\n",
       "13    (12, 16]\n",
       "14    (12, 16]\n",
       "dtype: category\n",
       "Categories (3, interval[int64, right]): [(-1, 3] < (3, 12] < (12, 16]]"
      ]
     },
     "execution_count": 164,
     "metadata": {},
     "output_type": "execute_result"
    }
   ],
   "source": [
    "# Bin values into bins with the cutoffs I specify. The bins are no longer of equal size.\n",
    "\n",
    "pd.cut(s, [-1, 3, 12, 16])\n"
   ]
  },
  {
   "cell_type": "code",
   "execution_count": 165,
   "id": "22d759f6",
   "metadata": {},
   "outputs": [
    {
     "data": {
      "text/plain": [
       "(-0.014, 4.667]    5\n",
       "(4.667, 9.333]     5\n",
       "(9.333, 14.0]      5\n",
       "dtype: int64"
      ]
     },
     "execution_count": 165,
     "metadata": {},
     "output_type": "execute_result"
    }
   ],
   "source": [
    "# How many values fall into each bin? I can chain on the value_counts method.\n",
    "\n",
    "pd.cut(s, 3).value_counts()\n"
   ]
  },
  {
   "cell_type": "code",
   "execution_count": 167,
   "id": "feba2437",
   "metadata": {},
   "outputs": [
    {
     "data": {
      "text/plain": [
       "(-0.015, 4.667]    5\n",
       "(4.667, 9.333]     5\n",
       "(9.333, 14.0]      5\n",
       "dtype: int64"
      ]
     },
     "execution_count": 167,
     "metadata": {},
     "output_type": "execute_result"
    }
   ],
   "source": [
    "s.value_counts(bins=3)\n",
    "\n"
   ]
  },
  {
   "cell_type": "code",
   "execution_count": 168,
   "id": "2e877715",
   "metadata": {},
   "outputs": [
    {
     "data": {
      "image/png": "[encoded data removed]",
      "text/plain": [
       "<Figure size 432x288 with 1 Axes>"
      ]
     },
     "metadata": {
      "needs_background": "light"
     },
     "output_type": "display_data"
    }
   ],
   "source": [
    "# Matplotlib is choosing the plot for us here, and it might tell the story we want.\n",
    "\n",
    "nums_series = pd.Series([1, 5, 5, 5, 10, 20, 100, 40])\n",
    "nums_series.plot()\n",
    "\n",
    "plt.show()\n"
   ]
  },
  {
   "cell_type": "code",
   "execution_count": 169,
   "id": "4e24ac48",
   "metadata": {},
   "outputs": [
    {
     "data": {
      "image/png": "[encoded data removed]",
      "text/plain": [
       "<Figure size 432x288 with 1 Axes>"
      ]
     },
     "metadata": {
      "needs_background": "light"
     },
     "output_type": "display_data"
    }
   ],
   "source": [
    "# So, here we specify the type of plot we would like Matplotlib to use.\n",
    "nums_series.plot.hist()\n",
    "\n",
    "plt.show()\n"
   ]
  },
  {
   "cell_type": "code",
   "execution_count": 170,
   "id": "d953b78a",
   "metadata": {
    "scrolled": true
   },
   "outputs": [
    {
     "data": {
      "image/png": "[encoded data removed]",
      "text/plain": [
       "<Figure size 432x288 with 1 Axes>"
      ]
     },
     "metadata": {
      "needs_background": "light"
     },
     "output_type": "display_data"
    }
   ],
   "source": [
    "# Construct the Series.\n",
    "lets_series = pd.Series(['a', 'b', 'a', 'c', 'b', 'a', 'd', 'a'])\n",
    "\n",
    "# Plot the value_counts of our Series. Rotate our x-tick values.\n",
    "lets_series.value_counts().plot.bar(rot=0)\n",
    "\n",
    "plt.show()\n"
   ]
  },
  {
   "cell_type": "code",
   "execution_count": 171,
   "id": "6dc05e61",
   "metadata": {},
   "outputs": [
    {
     "data": {
      "image/png": "[encoded data removed]",
      "text/plain": [
       "<Figure size 432x288 with 1 Axes>"
      ]
     },
     "metadata": {
      "needs_background": "light"
     },
     "output_type": "display_data"
    }
   ],
   "source": [
    "# Use the parameters of the .plot method to customize my chart.\n",
    "\n",
    "pd.Series(['a', 'b', 'a', 'c', 'b', 'a', 'd', 'a']).value_counts().plot.bar(title='Example Pandas Visualization', \n",
    "                                                                            rot=0, \n",
    "                                                                            color='firebrick', \n",
    "                                                                            ec='black',\n",
    "                                                                            width=.9).set(xlabel='Letter',\n",
    "                                                                                         ylabel='Frequency')\n",
    "\n",
    "plt.show()\n"
   ]
  },
  {
   "cell_type": "code",
   "execution_count": 172,
   "id": "a2cab85a",
   "metadata": {},
   "outputs": [
    {
     "data": {
      "image/png": "[encoded data removed]",
      "text/plain": [
       "<Figure size 432x288 with 1 Axes>"
      ]
     },
     "metadata": {
      "needs_background": "light"
     },
     "output_type": "display_data"
    }
   ],
   "source": [
    "# Use Matplotlib to customize.\n",
    "\n",
    "pd.Series(['a', 'b', 'a', 'c', 'b', 'a', 'd', 'a']).value_counts().plot.bar(color='firebrick', width=.9)\n",
    "plt.title('Example Pandas Visualization')\n",
    "plt.xticks(rotation=0)\n",
    "plt.xlabel('Letter')\n",
    "plt.ylabel('Frequency')\n",
    "\n",
    "plt.show()\n"
   ]
  },
  {
   "cell_type": "code",
   "execution_count": 185,
   "id": "e6b12b22",
   "metadata": {},
   "outputs": [],
   "source": [
    "letters = list ('hnvidduckkqxwymbimkccexbkmqygkxoyndmcxnwqarhyffsjpsrabtjzsypmzadfavyrnndndvswreauxovncxtwzpwejilzjrmmbbgbyxvjtewqthafnbkqplarokkyydtubbmnexoypulzwfhqvckdpqtpoppzqrmcvhhpwgjwupgzhiofohawytlsiyecuproguy')\n"
   ]
  },
  {
   "cell_type": "code",
   "execution_count": 196,
   "id": "1c89d86f",
   "metadata": {},
   "outputs": [
    {
     "data": {
      "text/plain": [
       "0      h\n",
       "1      n\n",
       "2      v\n",
       "3      i\n",
       "4      d\n",
       "      ..\n",
       "195    r\n",
       "196    o\n",
       "197    g\n",
       "198    u\n",
       "199    y\n",
       "Length: 200, dtype: object"
      ]
     },
     "execution_count": 196,
     "metadata": {},
     "output_type": "execute_result"
    }
   ],
   "source": [
    "lets = pd.Series(letters)\n",
    "\n",
    "lets"
   ]
  },
  {
   "cell_type": "code",
   "execution_count": 200,
   "id": "95709c85",
   "metadata": {},
   "outputs": [
    {
     "data": {
      "text/plain": [
       "array(['h', 'n', 'v', 'i', 'd', 'u', 'c', 'k', 'q', 'x', 'w', 'y', 'm',\n",
       "       'b', 'e', 'g', 'o', 'a', 'r', 'f', 's', 'j', 'p', 't', 'z', 'l'],\n",
       "      dtype=object)"
      ]
     },
     "execution_count": 200,
     "metadata": {},
     "output_type": "execute_result"
    }
   ],
   "source": [
    "lets.unique()"
   ]
  },
  {
   "cell_type": "code",
   "execution_count": 201,
   "id": "d6deab62",
   "metadata": {},
   "outputs": [
    {
     "data": {
      "text/plain": [
       "y    13\n",
       "dtype: int64"
      ]
     },
     "execution_count": 201,
     "metadata": {},
     "output_type": "execute_result"
    }
   ],
   "source": [
    "#Which letter occurs the most frequently in the letters Series?\n",
    "lets.value_counts().nlargest(1)"
   ]
  },
  {
   "cell_type": "code",
   "execution_count": 208,
   "id": "687d6948",
   "metadata": {},
   "outputs": [
    {
     "data": {
      "text/plain": [
       "l    4\n",
       "dtype: int64"
      ]
     },
     "execution_count": 208,
     "metadata": {},
     "output_type": "execute_result"
    }
   ],
   "source": [
    "# Which letter occurs the Least frequently?\n",
    "\n",
    "lets.value_counts().nsmallest(1)"
   ]
  },
  {
   "cell_type": "code",
   "execution_count": 214,
   "id": "b56c4232",
   "metadata": {},
   "outputs": [
    {
     "data": {
      "text/plain": [
       "o    8\n",
       "a    8\n",
       "u    7\n",
       "e    6\n",
       "i    5\n",
       "dtype: int64"
      ]
     },
     "execution_count": 214,
     "metadata": {},
     "output_type": "execute_result"
    }
   ],
   "source": [
    "# How many vowels are in the Series?\n",
    "lets[(lets.str.count('[aeiou]'))>= 1].value_counts()"
   ]
  },
  {
   "cell_type": "code",
   "execution_count": 216,
   "id": "ae75c82c",
   "metadata": {},
   "outputs": [
    {
     "data": {
      "text/plain": [
       "y    13\n",
       "p    12\n",
       "w    10\n",
       "m     9\n",
       "b     9\n",
       "k     9\n",
       "n     9\n",
       "r     8\n",
       "h     8\n",
       "x     8\n",
       "q     8\n",
       "c     8\n",
       "d     8\n",
       "v     7\n",
       "t     7\n",
       "z     7\n",
       "f     6\n",
       "j     6\n",
       "g     5\n",
       "s     5\n",
       "l     4\n",
       "dtype: int64"
      ]
     },
     "execution_count": 216,
     "metadata": {},
     "output_type": "execute_result"
    }
   ],
   "source": [
    "# How many consonants are in the Series?\n",
    "lets[(lets.str.count('[aeiou]'))< 1].value_counts()"
   ]
  },
  {
   "cell_type": "code",
   "execution_count": 217,
   "id": "3206e843",
   "metadata": {},
   "outputs": [
    {
     "data": {
      "text/plain": [
       "0      H\n",
       "1      N\n",
       "2      V\n",
       "3      I\n",
       "4      D\n",
       "      ..\n",
       "195    R\n",
       "196    O\n",
       "197    G\n",
       "198    U\n",
       "199    Y\n",
       "Length: 200, dtype: object"
      ]
     },
     "execution_count": 217,
     "metadata": {},
     "output_type": "execute_result"
    }
   ],
   "source": [
    "\n",
    "# Create a Series that has all of the same letters but uppercased.\n",
    "lets.str.upper()"
   ]
  },
  {
   "cell_type": "code",
   "execution_count": 222,
   "id": "96de031d",
   "metadata": {},
   "outputs": [
    {
     "data": {
      "image/png": "[encoded data removed]",
      "text/plain": [
       "<Figure size 432x288 with 1 Axes>"
      ]
     },
     "metadata": {
      "needs_background": "light"
     },
     "output_type": "display_data"
    }
   ],
   "source": [
    "\n",
    "# Create a bar plot of the frequencies of the 6 most commonly occuring letter\n",
    "lets.value_counts().head(6).plot.bar(title='Frequency 6 most commonly occuring letter', \n",
    "                                                                            rot=0, \n",
    "                                                                            color='firebrick', \n",
    "                                                                            ec='black',\n",
    "                                                                            width=.9).set(xlabel='Letter',\n",
    "                                                                                         ylabel='Frequency')\n",
    "\n",
    "plt.show()"
   ]
  },
  {
   "cell_type": "code",
   "execution_count": 226,
   "id": "45af6bc7",
   "metadata": {},
   "outputs": [],
   "source": [
    "numbers=list ([60, 86, 75, 62, 93, 71, 60, 83, 95, 78, 65, 72, 69, 81, 96, 80, 85, 92, 82, 78])\n",
    "exam_scores= pd.Series(numbers)"
   ]
  },
  {
   "cell_type": "code",
   "execution_count": 251,
   "id": "5ad788d1",
   "metadata": {},
   "outputs": [
    {
     "data": {
      "text/plain": [
       "20"
      ]
     },
     "execution_count": 251,
     "metadata": {},
     "output_type": "execute_result"
    }
   ],
   "source": [
    "# How many elements are in the exam_scores Series?\n",
    "len(numbers)\n",
    "\n"
   ]
  },
  {
   "cell_type": "code",
   "execution_count": 233,
   "id": "4723d06a",
   "metadata": {},
   "outputs": [
    {
     "data": {
      "text/plain": [
       "count    20.000000\n",
       "mean     78.150000\n",
       "std      11.352139\n",
       "min      60.000000\n",
       "25%      70.500000\n",
       "50%      79.000000\n",
       "75%      85.250000\n",
       "max      96.000000\n",
       "dtype: float64"
      ]
     },
     "execution_count": 233,
     "metadata": {},
     "output_type": "execute_result"
    }
   ],
   "source": [
    "exam_scores.describe()\n",
    "\n",
    "# Run the code to discover the minimum, the maximum, the mean, and the median scores for the exam_scores Series.\n"
   ]
  },
  {
   "cell_type": "code",
   "execution_count": 241,
   "id": "d7ec4fc1",
   "metadata": {},
   "outputs": [
    {
     "data": {
      "text/plain": [
       "[Text(0.5, 0, 'Range'), Text(0, 0.5, 'Frequency')]"
      ]
     },
     "execution_count": 241,
     "metadata": {},
     "output_type": "execute_result"
    },
    {
     "data": {
      "image/png": "[encoded data removed]",
      "text/plain": [
       "<Figure size 432x288 with 1 Axes>"
      ]
     },
     "metadata": {
      "needs_background": "light"
     },
     "output_type": "display_data"
    }
   ],
   "source": [
    "\n",
    "# Plot the Series in a meaningful way and make sure your chart has a title and axis labels.\n",
    "exam_scores.value_counts(bins=4).plot.bar(title = 'Distribution of Numbers',\n",
    "                                        rot=45,\n",
    "                                        width =.90).set(xlabel='Range',\n",
    "                                        ylabel= \"Frequency\")"
   ]
  },
  {
   "cell_type": "code",
   "execution_count": 242,
   "id": "ff4028b7",
   "metadata": {},
   "outputs": [
    {
     "data": {
      "text/plain": [
       "0      64\n",
       "1      90\n",
       "2      79\n",
       "3      66\n",
       "4      97\n",
       "5      75\n",
       "6      64\n",
       "7      87\n",
       "8      99\n",
       "9      82\n",
       "10     69\n",
       "11     76\n",
       "12     73\n",
       "13     85\n",
       "14    100\n",
       "15     84\n",
       "16     89\n",
       "17     96\n",
       "18     86\n",
       "19     82\n",
       "dtype: int64"
      ]
     },
     "execution_count": 242,
     "metadata": {},
     "output_type": "execute_result"
    }
   ],
   "source": [
    "# # Write the code necessary to implement a curve for your exam_grades Series and save this as curved_grades.\n",
    "# Add the necessary points to the highest grade to make it 100, and add the same number of points to every other \n",
    "# score in the Series as well.\n",
    "curved_grades = exam_scores + (100 - exam_scores.max())\n",
    "curved_grades\n"
   ]
  },
  {
   "cell_type": "code",
   "execution_count": 244,
   "id": "f647dad3",
   "metadata": {},
   "outputs": [
    {
     "data": {
      "text/plain": [
       "0     D\n",
       "1     A\n",
       "2     C\n",
       "3     D\n",
       "4     A\n",
       "5     C\n",
       "6     D\n",
       "7     B\n",
       "8     A\n",
       "9     B\n",
       "10    D\n",
       "11    C\n",
       "12    C\n",
       "13    B\n",
       "14    A\n",
       "15    B\n",
       "16    B\n",
       "17    A\n",
       "18    B\n",
       "19    B\n",
       "dtype: object"
      ]
     },
     "execution_count": 244,
     "metadata": {},
     "output_type": "execute_result"
    }
   ],
   "source": [
    "# # Use a method to convert each of the numeric values in the curved_grades Series into a categorical value \n",
    "# of letter grades. For example, 86 should be a 'B' and 95 should be an 'A'. Save this as a Series named letter_grades.\n",
    "def exam_scores(x):\n",
    "    if x >= 90:\n",
    "        return 'A'\n",
    "    elif x >= 80:\n",
    "        return 'B'\n",
    "    elif x >= 70:\n",
    "        return 'C'\n",
    "    elif x >= 60:\n",
    "        return 'D'\n",
    "    else:\n",
    "        return 'F'\n",
    "letter_grades = curved_grades.apply(exam_scores)\n",
    "letter_grades"
   ]
  },
  {
   "cell_type": "code",
   "execution_count": 246,
   "id": "2cf21103",
   "metadata": {},
   "outputs": [
    {
     "data": {
      "text/plain": [
       "[Text(0.5, 0, 'Grade'), Text(0, 0.5, 'Frequency')]"
      ]
     },
     "execution_count": 246,
     "metadata": {},
     "output_type": "execute_result"
    },
    {
     "data": {
      "image/png": "[encoded data removed]",
      "text/plain": [
       "<Figure size 432x288 with 1 Axes>"
      ]
     },
     "metadata": {
      "needs_background": "light"
     },
     "output_type": "display_data"
    }
   ],
   "source": [
    "letter_grades.value_counts().plot.bar(title='Letter Grade Breakout', \n",
    "                        rot=0, \n",
    "                        width=.9,\n",
    "                        ec='black',).set(xlabel='Grade',\n",
    "                                        ylabel='Frequency')\n",
    "# Plot your new categorical letter_grades Series in a meaninful way and include a title and axis labels."
   ]
  },
  {
   "cell_type": "code",
   "execution_count": null,
   "id": "e09c60ab",
   "metadata": {},
   "outputs": [],
   "source": []
  }
 ],
 "metadata": {
  "kernelspec": {
   "display_name": "Python 3 (ipykernel)",
   "language": "python",
   "name": "python3"
  },
  "language_info": {
   "codemirror_mode": {
    "name": "ipython",
    "version": 3
   },
   "file_extension": ".py",
   "mimetype": "text/x-python",
   "name": "python",
   "nbconvert_exporter": "python",
   "pygments_lexer": "ipython3",
   "version": "3.9.12"
  }
 },
 "nbformat": 4,
 "nbformat_minor": 5
}
